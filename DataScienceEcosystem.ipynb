{
 "cells": [
  {
   "cell_type": "markdown",
   "id": "85e677ce-fdb8-4863-a6ed-e143f78822d4",
   "metadata": {},
   "source": [
    "# Data Science Tools and Ecosystem"
   ]
  },
  {
   "cell_type": "markdown",
   "id": "d99e7439-410d-48a1-9aec-7ee4603fdd52",
   "metadata": {},
   "source": [
    "In this notebook, Data Science Tools and Ecosystem are summarized."
   ]
  },
  {
   "cell_type": "markdown",
   "id": "c535ce81-2e71-4f2e-ab13-0cddd83e0791",
   "metadata": {},
   "source": [
    "**OBJECTIVE**\n",
    "* Popular Language for Data Science\n",
    "* Commonly used Library for Data Science\n",
    "* Evaluating Airthmatic Expressionin Python"
   ]
  },
  {
   "cell_type": "markdown",
   "id": "f71bcac8-856c-4aa8-b795-e68eb3e6f4f4",
   "metadata": {},
   "source": [
    "Some of the popular languages that Data Scientists use are:\n",
    "1. Python\n",
    "2. R\n",
    "3. Scala"
   ]
  },
  {
   "cell_type": "markdown",
   "id": "bdcaa816-e85b-469c-acdc-9d4e3cee65eb",
   "metadata": {},
   "source": [
    "Some of the commonly used libraries used by Data Scientists include:\n",
    "\n",
    "*  pandas\n",
    "*  numPy\n",
    "*  scikit-learn"
   ]
  },
  {
   "cell_type": "markdown",
   "id": "4083148f-4c4c-4895-90be-2a1bf38545db",
   "metadata": {},
   "source": [
    "|Data Science Tools|\n",
    "|------------------|\n",
    "| Tensar Flow |\n",
    "| Jupyter Notebook |\n",
    "| Apache Spark |\n",
    "| Anaconda |"
   ]
  },
  {
   "cell_type": "markdown",
   "id": "e59d1737-316b-4d47-abfb-2e506513e313",
   "metadata": {},
   "source": [
    "### Below are a few examples of evaluating arithmetic expressions in Python"
   ]
  },
  {
   "cell_type": "code",
   "execution_count": 1,
   "id": "51f442c3-83b6-4574-84dc-e0bc32ca348d",
   "metadata": {},
   "outputs": [
    {
     "name": "stdout",
     "output_type": "stream",
     "text": [
      "17\n"
     ]
    }
   ],
   "source": [
    "print((3*4)+5)\n",
    "#This a simple arithmetic expression to mutiply then add integers"
   ]
  },
  {
   "cell_type": "code",
   "execution_count": 2,
   "id": "7461e54a-451b-4e49-b901-c323e0dc3de8",
   "metadata": {},
   "outputs": [
    {
     "name": "stdout",
     "output_type": "stream",
     "text": [
      "Total hours in 200 minutes are 3.3333333333333335\n"
     ]
    }
   ],
   "source": [
    "#This will convert minutes to Hour\n",
    "Minutes = 200\n",
    "MinutePerHour = 60\n",
    "print(\"Total hours in 200 minutes are {}\".format(Minutes/MinutePerHour))"
   ]
  },
  {
   "cell_type": "markdown",
   "id": "6989b432-ca07-4c66-bf56-308e0f2698ac",
   "metadata": {},
   "source": [
    "## Author\n",
    "Priyesh Yadav"
   ]
  },
  {
   "cell_type": "code",
   "execution_count": null,
   "id": "2542348f-21f9-4c15-bddb-2bfb0f1cebd8",
   "metadata": {},
   "outputs": [],
   "source": []
  }
 ],
 "metadata": {
  "kernelspec": {
   "display_name": "Python 3 (ipykernel)",
   "language": "python",
   "name": "python3"
  },
  "language_info": {
   "codemirror_mode": {
    "name": "ipython",
    "version": 3
   },
   "file_extension": ".py",
   "mimetype": "text/x-python",
   "name": "python",
   "nbconvert_exporter": "python",
   "pygments_lexer": "ipython3",
   "version": "3.9.2"
  }
 },
 "nbformat": 4,
 "nbformat_minor": 5
}
